{
 "cells": [
  {
   "cell_type": "code",
   "execution_count": 1,
   "id": "9cc2c66e-086d-4427-b4d8-f26d5c94e8fd",
   "metadata": {},
   "outputs": [],
   "source": [
    "import pickle\n",
    "import numpy as np\n",
    "import pandas as pd\n",
    "\n",
    "from datetime import datetime as dt\n",
    "from sklearn.pipeline import Pipeline\n",
    "from catboost import CatBoostClassifier\n",
    "from category_encoders import TargetEncoder\n",
    "from sklearn.compose import ColumnTransformer\n",
    "from sklearn.preprocessing import StandardScaler\n",
    "from category_encoders.one_hot import OneHotEncoder\n",
    "from sklearn.model_selection import train_test_split\n",
    "from sklearn.metrics import roc_auc_score, accuracy_score\n",
    "from sklearn.feature_extraction.text import TfidfVectorizer"
   ]
  },
  {
   "cell_type": "markdown",
   "id": "ae80ecd0",
   "metadata": {},
   "source": [
    "Сохраняем необходимые данные (чтобы не качать при каждом перезапуске ноутбука)."
   ]
  },
  {
   "cell_type": "code",
   "execution_count": 2,
   "id": "aeb2c369-2869-4eb9-85df-41449df556a5",
   "metadata": {},
   "outputs": [],
   "source": [
    "# cкачиваем все данные из post_text\n",
    "post_text = pd.read_sql(\n",
    "    \"SELECT * FROM public.post_text_df\",\n",
    "    \"postgresql://robot-startml-ro:pheiph0hahj1Vaif@\"\"postgres.lab.karpov.courses:6432/startml\"\n",
    ")\n",
    "# записываем post_text в файл\n",
    "post_text.to_csv('post_text.csv', index=False)"
   ]
  },
  {
   "cell_type": "code",
   "execution_count": 3,
   "id": "8d70839e-1ecb-44ea-8321-22b7cd43cda3",
   "metadata": {},
   "outputs": [],
   "source": [
    "# скачиваем среднее по target по каждому post_id из feed_data\n",
    "post_stat = pd.read_sql(\n",
    "    \"SELECT post_id, AVG(target) AS post_stat FROM public.feed_data GROUP BY post_id\",\n",
    "    \"postgresql://robot-startml-ro:pheiph0hahj1Vaif@\"\"postgres.lab.karpov.courses:6432/startml\"\n",
    ")\n",
    "# записываем post_text в файл\n",
    "post_stat.to_csv('post_stat.csv', index=False)"
   ]
  },
  {
   "cell_type": "code",
   "execution_count": 4,
   "id": "138f82b8-7a7b-478e-9eec-2c6ec6cd3d11",
   "metadata": {},
   "outputs": [],
   "source": [
    "# cкачиваем все данные из user_data\n",
    "user_data = pd.read_sql(\n",
    "    \"SELECT * FROM public.user_data\",\n",
    "    \"postgresql://robot-startml-ro:pheiph0hahj1Vaif@\"\"postgres.lab.karpov.courses:6432/startml\"\n",
    ")\n",
    "# записываем user_data в файл\n",
    "user_data.to_csv('user_data.csv', index=False)"
   ]
  },
  {
   "cell_type": "code",
   "execution_count": 5,
   "id": "f045f893-58ab-405d-80e9-66015d084a22",
   "metadata": {},
   "outputs": [],
   "source": [
    "# скачиваем среднее по target по каждому user_id из feed_data\n",
    "user_stat = pd.read_sql(\n",
    "    \"SELECT user_id, AVG(target) AS user_stat FROM public.feed_data GROUP BY user_id\",\n",
    "    \"postgresql://robot-startml-ro:pheiph0hahj1Vaif@\"\"postgres.lab.karpov.courses:6432/startml\"\n",
    ")\n",
    "# записываем user_data в файл\n",
    "user_stat.to_csv('user_stat.csv', index=False)"
   ]
  },
  {
   "cell_type": "code",
   "execution_count": 6,
   "id": "7e88c907-8928-4994-a578-33455d2fa2ab",
   "metadata": {},
   "outputs": [],
   "source": [
    "# скачиваем последние 100 тысяч записей в feed_data\n",
    "feed_data = pd.read_sql(\n",
    "    \"SELECT * FROM public.feed_data WHERE action = 'view' ORDER BY timestamp DESC LIMIT 100000\",\n",
    "    \"postgresql://robot-startml-ro:pheiph0hahj1Vaif@\"\"postgres.lab.karpov.courses:6432/startml\"\n",
    ")\n",
    "# записываем feed_data в файл\n",
    "feed_data.to_csv('feed_data.csv', index=False)"
   ]
  },
  {
   "cell_type": "markdown",
   "id": "e0e4302f",
   "metadata": {},
   "source": [
    "Загружаем данные из ранее сохранённых файлов"
   ]
  },
  {
   "cell_type": "code",
   "execution_count": 7,
   "id": "d4d1bbf6-16c8-47e7-8a9e-dda924dbbceb",
   "metadata": {},
   "outputs": [],
   "source": [
    "post_text = pd.read_csv('post_text.csv')"
   ]
  },
  {
   "cell_type": "code",
   "execution_count": 8,
   "id": "de696906-19c7-42dd-b5da-c003715f9379",
   "metadata": {},
   "outputs": [],
   "source": [
    "post_stat = pd.read_csv('post_stat.csv')"
   ]
  },
  {
   "cell_type": "code",
   "execution_count": 9,
   "id": "63cb3fec-ca5d-40ed-8ef6-e636db6942f0",
   "metadata": {},
   "outputs": [],
   "source": [
    "user_data = pd.read_csv('user_data.csv')"
   ]
  },
  {
   "cell_type": "code",
   "execution_count": 10,
   "id": "df67b3b2-3435-40e2-85c9-170fe575fefd",
   "metadata": {},
   "outputs": [],
   "source": [
    "user_stat = pd.read_csv('user_stat.csv')"
   ]
  },
  {
   "cell_type": "code",
   "execution_count": 11,
   "id": "02cb6461-1fdc-4781-b96f-f38dee302976",
   "metadata": {},
   "outputs": [],
   "source": [
    "feed_data = pd.read_csv('feed_data.csv')\n",
    "feed_data.sort_values('timestamp', inplace=True, ignore_index=True)"
   ]
  },
  {
   "cell_type": "markdown",
   "id": "4a896021",
   "metadata": {},
   "source": [
    "В таблице feed_data есть колонка 'target', она будет являться целевой в нашем обучении.\n",
    "\n",
    "0 - пост не получил like от пользователя, которому был показан.\n",
    "\n",
    "1 - пост получил like."
   ]
  },
  {
   "cell_type": "markdown",
   "id": "926c2e24",
   "metadata": {},
   "source": [
    "При помощи метода TF-IDF в таблице post_text преобразуем текстовую колонку 'text' в векторный вид.\n",
    "Из получившейся матрицы возьмём построчные максимум."
   ]
  },
  {
   "cell_type": "code",
   "execution_count": 12,
   "id": "64fbd77e-3b4a-4a04-8479-65b8f1686111",
   "metadata": {},
   "outputs": [],
   "source": [
    "post_text_copy = post_text.copy()\n",
    "\n",
    "vectorizer = TfidfVectorizer()\n",
    "F = vectorizer.fit_transform(post_text['text'])\n",
    "post_text_copy['text'] = F.toarray().max(axis=1)"
   ]
  },
  {
   "cell_type": "markdown",
   "id": "72cb3ff5",
   "metadata": {},
   "source": [
    "Соединяем таблицы по колонкам post_id и user_id."
   ]
  },
  {
   "cell_type": "code",
   "execution_count": 13,
   "id": "a2b85b0c-ebb1-4b7b-9f00-201ce76dd0bc",
   "metadata": {},
   "outputs": [],
   "source": [
    "df = pd.merge(feed_data,\n",
    "              post_text_copy,\n",
    "              on='post_id',\n",
    "              how='left')"
   ]
  },
  {
   "cell_type": "code",
   "execution_count": 14,
   "id": "fc0ce04f-e1d8-4061-ba5a-1a2ffe8954d5",
   "metadata": {},
   "outputs": [],
   "source": [
    "df = pd.merge(df,\n",
    "              post_stat,\n",
    "              on='post_id',\n",
    "              how='left')"
   ]
  },
  {
   "cell_type": "code",
   "execution_count": 15,
   "id": "41fae632-ea06-4f4d-8a36-03dc3ff6faf6",
   "metadata": {},
   "outputs": [],
   "source": [
    "df = pd.merge(df,\n",
    "              user_data,\n",
    "              on='user_id',\n",
    "              how='left')"
   ]
  },
  {
   "cell_type": "code",
   "execution_count": 16,
   "id": "b0638865-331b-4f07-b43a-de712942d284",
   "metadata": {},
   "outputs": [],
   "source": [
    "df = pd.merge(df,\n",
    "              user_stat,\n",
    "              on='user_id',\n",
    "              how='left')"
   ]
  },
  {
   "cell_type": "markdown",
   "id": "655d5fb4",
   "metadata": {},
   "source": [
    "Из колонки timestamp выделяем дополнительные признаки: год, месяц, день, час, минута, секунда. А исходную колонку удаляем."
   ]
  },
  {
   "cell_type": "code",
   "execution_count": 17,
   "id": "e828e263-8c5e-4b89-b978-7ea93bb87f5a",
   "metadata": {},
   "outputs": [],
   "source": [
    "df['timestamp'] = df['timestamp'].astype('datetime64')\n",
    "\n",
    "df['year'] = df['timestamp'].dt.year\n",
    "df['month'] = df['timestamp'].dt.month\n",
    "df['day'] = df['timestamp'].dt.day\n",
    "df['hour'] = df['timestamp'].dt.hour\n",
    "df['minute'] = df['timestamp'].dt.minute\n",
    "df['second'] = df['timestamp'].dt.second\n",
    "\n",
    "df = df.drop('timestamp', axis=1)"
   ]
  },
  {
   "cell_type": "markdown",
   "id": "c39cede5",
   "metadata": {},
   "source": [
    "Делим сгруппированый набор данных на признаки \"X\" и целевую колонку \"Y\"."
   ]
  },
  {
   "cell_type": "code",
   "execution_count": 18,
   "id": "afd53df5-5981-4e93-be74-5b5216986574",
   "metadata": {},
   "outputs": [],
   "source": [
    "X = df.drop(['user_id', 'post_id', 'action', 'target'], axis=1)\n",
    "y = df['target']"
   ]
  },
  {
   "cell_type": "markdown",
   "id": "a4a3ec78",
   "metadata": {},
   "source": [
    "Делим колонки в таблице признаков на числовые и категориальные, последние в свою очередь делим на признаки, которые будут обрабатываться методом One-Hot или кодирования по таргету."
   ]
  },
  {
   "cell_type": "code",
   "execution_count": 19,
   "id": "bd93b188-88a1-424a-a118-e47c4ea2b292",
   "metadata": {},
   "outputs": [],
   "source": [
    "numeric_columns = list(X.select_dtypes(exclude='object').columns)\n",
    "categorical_columns = list(X.select_dtypes(include='object').columns)\n",
    "\n",
    "columns_ohe = [x for x in categorical_columns if X[x].nunique() < 5]\n",
    "columns_mte = [x for x in categorical_columns if X[x].nunique() >= 5]\n",
    "\n",
    "numeric_columns_ind = [list(X.columns).index(col) for col in numeric_columns]\n",
    "columns_ohe_ind = [list(X.columns).index(col) for col in columns_ohe]\n",
    "columns_mte_ind = [list(X.columns).index(col) for col in columns_mte]"
   ]
  },
  {
   "cell_type": "markdown",
   "id": "e2f1d153",
   "metadata": {},
   "source": [
    "Создаём трансформер, который будет преобразовывать данные признаков следующим образом: числовые признаки стандартизирует, а к категориальным применит метод One-Hot и TargetEncoder."
   ]
  },
  {
   "cell_type": "code",
   "execution_count": 20,
   "id": "5f98425b-7335-4fe0-9f11-17abe5fa9d37",
   "metadata": {},
   "outputs": [
    {
     "name": "stderr",
     "output_type": "stream",
     "text": [
      "D:\\anaconda3\\lib\\site-packages\\category_encoders\\target_encoder.py:92: FutureWarning: Default parameter min_samples_leaf will change in version 2.6.See https://github.com/scikit-learn-contrib/category_encoders/issues/327\n",
      "  warnings.warn(\"Default parameter min_samples_leaf will change in version 2.6.\"\n",
      "D:\\anaconda3\\lib\\site-packages\\category_encoders\\target_encoder.py:97: FutureWarning: Default parameter smoothing will change in version 2.6.See https://github.com/scikit-learn-contrib/category_encoders/issues/327\n",
      "  warnings.warn(\"Default parameter smoothing will change in version 2.6.\"\n"
     ]
    }
   ],
   "source": [
    "t = [('StandardScaler', StandardScaler(), numeric_columns_ind),\n",
    "     ('OneHotEncoder', OneHotEncoder(), columns_ohe_ind),\n",
    "     ('MeanTargetEncoder', TargetEncoder(), columns_mte_ind)]\n",
    "\n",
    "columns_transformer = ColumnTransformer(transformers=t)"
   ]
  },
  {
   "cell_type": "markdown",
   "id": "4b900647",
   "metadata": {},
   "source": [
    "Делим данные на тренеровочные и тестовые."
   ]
  },
  {
   "cell_type": "code",
   "execution_count": 21,
   "id": "83c5ef60-4dce-432c-9038-d044c36527eb",
   "metadata": {},
   "outputs": [],
   "source": [
    "X_train, X_test, y_train, y_test = train_test_split(X,\n",
    "                                                    y,\n",
    "                                                    test_size=0.2,\n",
    "                                                    random_state=1)"
   ]
  },
  {
   "cell_type": "markdown",
   "id": "2847c506",
   "metadata": {},
   "source": [
    "Проверяем баланс классов на тренеровке и на тесте."
   ]
  },
  {
   "cell_type": "code",
   "execution_count": 22,
   "id": "9b4b6692-8597-4146-8b06-f66729d0d470",
   "metadata": {},
   "outputs": [
    {
     "data": {
      "text/plain": [
       "0.1572125"
      ]
     },
     "execution_count": 22,
     "metadata": {},
     "output_type": "execute_result"
    }
   ],
   "source": [
    "y_train.value_counts()[1] / len(y_train)"
   ]
  },
  {
   "cell_type": "code",
   "execution_count": 23,
   "id": "9db69709-0dff-4192-b344-532b16924525",
   "metadata": {},
   "outputs": [
    {
     "data": {
      "text/plain": [
       "0.1559"
      ]
     },
     "execution_count": 23,
     "metadata": {},
     "output_type": "execute_result"
    }
   ],
   "source": [
    "y_test.value_counts()[1] / len(y_test)"
   ]
  },
  {
   "cell_type": "markdown",
   "id": "c6b44af3",
   "metadata": {},
   "source": [
    "Стоит отметить, что в данных, на которых выполняется обучение, целевые классы имеют явный дисбаланс: класс 1 порядка 16%. При разбивке данных на тренеровочные и тестывые соотношение классов будем считать приемлемым."
   ]
  },
  {
   "cell_type": "markdown",
   "id": "693b0840",
   "metadata": {},
   "source": [
    "При помощи Pipeline проводим обучение модели CatBoostClassifier. Параметры модели были подобранны вручную."
   ]
  },
  {
   "cell_type": "code",
   "execution_count": 24,
   "id": "90d6f6dc-73a2-4df3-9996-a52dc9379e74",
   "metadata": {},
   "outputs": [
    {
     "name": "stderr",
     "output_type": "stream",
     "text": [
      "D:\\anaconda3\\lib\\site-packages\\category_encoders\\target_encoder.py:92: FutureWarning: Default parameter min_samples_leaf will change in version 2.6.See https://github.com/scikit-learn-contrib/category_encoders/issues/327\n",
      "  warnings.warn(\"Default parameter min_samples_leaf will change in version 2.6.\"\n",
      "D:\\anaconda3\\lib\\site-packages\\category_encoders\\target_encoder.py:97: FutureWarning: Default parameter smoothing will change in version 2.6.See https://github.com/scikit-learn-contrib/category_encoders/issues/327\n",
      "  warnings.warn(\"Default parameter smoothing will change in version 2.6.\"\n"
     ]
    },
    {
     "name": "stdout",
     "output_type": "stream",
     "text": [
      "Learning rate set to 0.5\n",
      "0:\tlearn: 0.5100789\ttotal: 201ms\tremaining: 1.8s\n",
      "1:\tlearn: 0.4520958\ttotal: 210ms\tremaining: 840ms\n",
      "2:\tlearn: 0.4279819\ttotal: 223ms\tremaining: 521ms\n",
      "3:\tlearn: 0.4184583\ttotal: 236ms\tremaining: 354ms\n",
      "4:\tlearn: 0.4145570\ttotal: 248ms\tremaining: 248ms\n",
      "5:\tlearn: 0.4114360\ttotal: 258ms\tremaining: 172ms\n",
      "6:\tlearn: 0.4101998\ttotal: 269ms\tremaining: 115ms\n",
      "7:\tlearn: 0.4072614\ttotal: 280ms\tremaining: 70ms\n",
      "8:\tlearn: 0.4054249\ttotal: 291ms\tremaining: 32.3ms\n",
      "9:\tlearn: 0.4048414\ttotal: 302ms\tremaining: 0us\n",
      "CPU times: total: 1.72 s\n",
      "Wall time: 1.4 s\n"
     ]
    },
    {
     "data": {
      "text/html": [
       "<style>#sk-container-id-1 {color: black;background-color: white;}#sk-container-id-1 pre{padding: 0;}#sk-container-id-1 div.sk-toggleable {background-color: white;}#sk-container-id-1 label.sk-toggleable__label {cursor: pointer;display: block;width: 100%;margin-bottom: 0;padding: 0.3em;box-sizing: border-box;text-align: center;}#sk-container-id-1 label.sk-toggleable__label-arrow:before {content: \"▸\";float: left;margin-right: 0.25em;color: #696969;}#sk-container-id-1 label.sk-toggleable__label-arrow:hover:before {color: black;}#sk-container-id-1 div.sk-estimator:hover label.sk-toggleable__label-arrow:before {color: black;}#sk-container-id-1 div.sk-toggleable__content {max-height: 0;max-width: 0;overflow: hidden;text-align: left;background-color: #f0f8ff;}#sk-container-id-1 div.sk-toggleable__content pre {margin: 0.2em;color: black;border-radius: 0.25em;background-color: #f0f8ff;}#sk-container-id-1 input.sk-toggleable__control:checked~div.sk-toggleable__content {max-height: 200px;max-width: 100%;overflow: auto;}#sk-container-id-1 input.sk-toggleable__control:checked~label.sk-toggleable__label-arrow:before {content: \"▾\";}#sk-container-id-1 div.sk-estimator input.sk-toggleable__control:checked~label.sk-toggleable__label {background-color: #d4ebff;}#sk-container-id-1 div.sk-label input.sk-toggleable__control:checked~label.sk-toggleable__label {background-color: #d4ebff;}#sk-container-id-1 input.sk-hidden--visually {border: 0;clip: rect(1px 1px 1px 1px);clip: rect(1px, 1px, 1px, 1px);height: 1px;margin: -1px;overflow: hidden;padding: 0;position: absolute;width: 1px;}#sk-container-id-1 div.sk-estimator {font-family: monospace;background-color: #f0f8ff;border: 1px dotted black;border-radius: 0.25em;box-sizing: border-box;margin-bottom: 0.5em;}#sk-container-id-1 div.sk-estimator:hover {background-color: #d4ebff;}#sk-container-id-1 div.sk-parallel-item::after {content: \"\";width: 100%;border-bottom: 1px solid gray;flex-grow: 1;}#sk-container-id-1 div.sk-label:hover label.sk-toggleable__label {background-color: #d4ebff;}#sk-container-id-1 div.sk-serial::before {content: \"\";position: absolute;border-left: 1px solid gray;box-sizing: border-box;top: 0;bottom: 0;left: 50%;z-index: 0;}#sk-container-id-1 div.sk-serial {display: flex;flex-direction: column;align-items: center;background-color: white;padding-right: 0.2em;padding-left: 0.2em;position: relative;}#sk-container-id-1 div.sk-item {position: relative;z-index: 1;}#sk-container-id-1 div.sk-parallel {display: flex;align-items: stretch;justify-content: center;background-color: white;position: relative;}#sk-container-id-1 div.sk-item::before, #sk-container-id-1 div.sk-parallel-item::before {content: \"\";position: absolute;border-left: 1px solid gray;box-sizing: border-box;top: 0;bottom: 0;left: 50%;z-index: -1;}#sk-container-id-1 div.sk-parallel-item {display: flex;flex-direction: column;z-index: 1;position: relative;background-color: white;}#sk-container-id-1 div.sk-parallel-item:first-child::after {align-self: flex-end;width: 50%;}#sk-container-id-1 div.sk-parallel-item:last-child::after {align-self: flex-start;width: 50%;}#sk-container-id-1 div.sk-parallel-item:only-child::after {width: 0;}#sk-container-id-1 div.sk-dashed-wrapped {border: 1px dashed gray;margin: 0 0.4em 0.5em 0.4em;box-sizing: border-box;padding-bottom: 0.4em;background-color: white;}#sk-container-id-1 div.sk-label label {font-family: monospace;font-weight: bold;display: inline-block;line-height: 1.2em;}#sk-container-id-1 div.sk-label-container {text-align: center;}#sk-container-id-1 div.sk-container {/* jupyter's `normalize.less` sets `[hidden] { display: none; }` but bootstrap.min.css set `[hidden] { display: none !important; }` so we also need the `!important` here to be able to override the default hidden behavior on the sphinx rendered scikit-learn.org. See: https://github.com/scikit-learn/scikit-learn/issues/21755 */display: inline-block !important;position: relative;}#sk-container-id-1 div.sk-text-repr-fallback {display: none;}</style><div id=\"sk-container-id-1\" class=\"sk-top-container\"><div class=\"sk-text-repr-fallback\"><pre>Pipeline(steps=[(&#x27;columns_transformer&#x27;,\n",
       "                 ColumnTransformer(transformers=[(&#x27;StandardScaler&#x27;,\n",
       "                                                  StandardScaler(),\n",
       "                                                  [0, 2, 3, 4, 7, 10, 11, 12,\n",
       "                                                   13, 14, 15, 16]),\n",
       "                                                 (&#x27;OneHotEncoder&#x27;,\n",
       "                                                  OneHotEncoder(), [8, 9]),\n",
       "                                                 (&#x27;MeanTargetEncoder&#x27;,\n",
       "                                                  TargetEncoder(),\n",
       "                                                  [1, 5, 6])])),\n",
       "                (&#x27;decision_tree&#x27;,\n",
       "                 &lt;catboost.core.CatBoostClassifier object at 0x00000260EEBFCF10&gt;)])</pre><b>In a Jupyter environment, please rerun this cell to show the HTML representation or trust the notebook. <br />On GitHub, the HTML representation is unable to render, please try loading this page with nbviewer.org.</b></div><div class=\"sk-container\" hidden><div class=\"sk-item sk-dashed-wrapped\"><div class=\"sk-label-container\"><div class=\"sk-label sk-toggleable\"><input class=\"sk-toggleable__control sk-hidden--visually\" id=\"sk-estimator-id-1\" type=\"checkbox\" ><label for=\"sk-estimator-id-1\" class=\"sk-toggleable__label sk-toggleable__label-arrow\">Pipeline</label><div class=\"sk-toggleable__content\"><pre>Pipeline(steps=[(&#x27;columns_transformer&#x27;,\n",
       "                 ColumnTransformer(transformers=[(&#x27;StandardScaler&#x27;,\n",
       "                                                  StandardScaler(),\n",
       "                                                  [0, 2, 3, 4, 7, 10, 11, 12,\n",
       "                                                   13, 14, 15, 16]),\n",
       "                                                 (&#x27;OneHotEncoder&#x27;,\n",
       "                                                  OneHotEncoder(), [8, 9]),\n",
       "                                                 (&#x27;MeanTargetEncoder&#x27;,\n",
       "                                                  TargetEncoder(),\n",
       "                                                  [1, 5, 6])])),\n",
       "                (&#x27;decision_tree&#x27;,\n",
       "                 &lt;catboost.core.CatBoostClassifier object at 0x00000260EEBFCF10&gt;)])</pre></div></div></div><div class=\"sk-serial\"><div class=\"sk-item sk-dashed-wrapped\"><div class=\"sk-label-container\"><div class=\"sk-label sk-toggleable\"><input class=\"sk-toggleable__control sk-hidden--visually\" id=\"sk-estimator-id-2\" type=\"checkbox\" ><label for=\"sk-estimator-id-2\" class=\"sk-toggleable__label sk-toggleable__label-arrow\">columns_transformer: ColumnTransformer</label><div class=\"sk-toggleable__content\"><pre>ColumnTransformer(transformers=[(&#x27;StandardScaler&#x27;, StandardScaler(),\n",
       "                                 [0, 2, 3, 4, 7, 10, 11, 12, 13, 14, 15, 16]),\n",
       "                                (&#x27;OneHotEncoder&#x27;, OneHotEncoder(), [8, 9]),\n",
       "                                (&#x27;MeanTargetEncoder&#x27;, TargetEncoder(),\n",
       "                                 [1, 5, 6])])</pre></div></div></div><div class=\"sk-parallel\"><div class=\"sk-parallel-item\"><div class=\"sk-item\"><div class=\"sk-label-container\"><div class=\"sk-label sk-toggleable\"><input class=\"sk-toggleable__control sk-hidden--visually\" id=\"sk-estimator-id-3\" type=\"checkbox\" ><label for=\"sk-estimator-id-3\" class=\"sk-toggleable__label sk-toggleable__label-arrow\">StandardScaler</label><div class=\"sk-toggleable__content\"><pre>[0, 2, 3, 4, 7, 10, 11, 12, 13, 14, 15, 16]</pre></div></div></div><div class=\"sk-serial\"><div class=\"sk-item\"><div class=\"sk-estimator sk-toggleable\"><input class=\"sk-toggleable__control sk-hidden--visually\" id=\"sk-estimator-id-4\" type=\"checkbox\" ><label for=\"sk-estimator-id-4\" class=\"sk-toggleable__label sk-toggleable__label-arrow\">StandardScaler</label><div class=\"sk-toggleable__content\"><pre>StandardScaler()</pre></div></div></div></div></div></div><div class=\"sk-parallel-item\"><div class=\"sk-item\"><div class=\"sk-label-container\"><div class=\"sk-label sk-toggleable\"><input class=\"sk-toggleable__control sk-hidden--visually\" id=\"sk-estimator-id-5\" type=\"checkbox\" ><label for=\"sk-estimator-id-5\" class=\"sk-toggleable__label sk-toggleable__label-arrow\">OneHotEncoder</label><div class=\"sk-toggleable__content\"><pre>[8, 9]</pre></div></div></div><div class=\"sk-serial\"><div class=\"sk-item\"><div class=\"sk-estimator sk-toggleable\"><input class=\"sk-toggleable__control sk-hidden--visually\" id=\"sk-estimator-id-6\" type=\"checkbox\" ><label for=\"sk-estimator-id-6\" class=\"sk-toggleable__label sk-toggleable__label-arrow\">OneHotEncoder</label><div class=\"sk-toggleable__content\"><pre>OneHotEncoder()</pre></div></div></div></div></div></div><div class=\"sk-parallel-item\"><div class=\"sk-item\"><div class=\"sk-label-container\"><div class=\"sk-label sk-toggleable\"><input class=\"sk-toggleable__control sk-hidden--visually\" id=\"sk-estimator-id-7\" type=\"checkbox\" ><label for=\"sk-estimator-id-7\" class=\"sk-toggleable__label sk-toggleable__label-arrow\">MeanTargetEncoder</label><div class=\"sk-toggleable__content\"><pre>[1, 5, 6]</pre></div></div></div><div class=\"sk-serial\"><div class=\"sk-item\"><div class=\"sk-estimator sk-toggleable\"><input class=\"sk-toggleable__control sk-hidden--visually\" id=\"sk-estimator-id-8\" type=\"checkbox\" ><label for=\"sk-estimator-id-8\" class=\"sk-toggleable__label sk-toggleable__label-arrow\">TargetEncoder</label><div class=\"sk-toggleable__content\"><pre>TargetEncoder()</pre></div></div></div></div></div></div></div></div><div class=\"sk-item\"><div class=\"sk-estimator sk-toggleable\"><input class=\"sk-toggleable__control sk-hidden--visually\" id=\"sk-estimator-id-9\" type=\"checkbox\" ><label for=\"sk-estimator-id-9\" class=\"sk-toggleable__label sk-toggleable__label-arrow\">CatBoostClassifier</label><div class=\"sk-toggleable__content\"><pre>&lt;catboost.core.CatBoostClassifier object at 0x00000260EEBFCF10&gt;</pre></div></div></div></div></div></div></div>"
      ],
      "text/plain": [
       "Pipeline(steps=[('columns_transformer',\n",
       "                 ColumnTransformer(transformers=[('StandardScaler',\n",
       "                                                  StandardScaler(),\n",
       "                                                  [0, 2, 3, 4, 7, 10, 11, 12,\n",
       "                                                   13, 14, 15, 16]),\n",
       "                                                 ('OneHotEncoder',\n",
       "                                                  OneHotEncoder(), [8, 9]),\n",
       "                                                 ('MeanTargetEncoder',\n",
       "                                                  TargetEncoder(),\n",
       "                                                  [1, 5, 6])])),\n",
       "                ('decision_tree',\n",
       "                 <catboost.core.CatBoostClassifier object at 0x00000260EEBFCF10>)])"
      ]
     },
     "execution_count": 24,
     "metadata": {},
     "output_type": "execute_result"
    }
   ],
   "source": [
    "%%time\n",
    "\n",
    "pipe = Pipeline([('columns_transformer', columns_transformer),\n",
    "                 ('decision_tree', CatBoostClassifier(iterations = 10,\n",
    "                                                      loss_function = 'MultiClass',\n",
    "                                                      early_stopping_rounds=10,\n",
    "                                                      thread_count = 100,\n",
    "                                                      random_state=1))])\n",
    "pipe.fit(X_train, y_train)"
   ]
  },
  {
   "cell_type": "markdown",
   "id": "cf0e9f1e",
   "metadata": {},
   "source": [
    "Сохраняем обученую модель."
   ]
  },
  {
   "cell_type": "code",
   "execution_count": 25,
   "id": "3a6b0140",
   "metadata": {},
   "outputs": [],
   "source": [
    "filename = 'model_control.pkl'\n",
    "pickle.dump(pipe, open(filename, 'wb'))"
   ]
  },
  {
   "cell_type": "markdown",
   "id": "9e7a9668",
   "metadata": {},
   "source": [
    "Рассчитаем ROC-AUC для обученной модели на тестовых данных."
   ]
  },
  {
   "cell_type": "code",
   "execution_count": 26,
   "id": "f544ab7e-eb21-4bd5-8118-6297b0091ba9",
   "metadata": {},
   "outputs": [
    {
     "name": "stdout",
     "output_type": "stream",
     "text": [
      "ROC-AUC 0.6493664586068838\n"
     ]
    }
   ],
   "source": [
    "print(f'ROC-AUC {roc_auc_score(y_test, pipe.predict_proba(X_test)[:, 1])}')"
   ]
  },
  {
   "cell_type": "markdown",
   "id": "2c322504-011e-4bed-ad26-a6d3cb77060e",
   "metadata": {},
   "source": [
    "# Строим таблицы для рекомендации постов"
   ]
  },
  {
   "cell_type": "code",
   "execution_count": 27,
   "id": "0b63cebf-d266-4172-914f-164fea0b8d49",
   "metadata": {},
   "outputs": [],
   "source": [
    "note = post_text.copy()\n",
    "\n",
    "vectorizer = TfidfVectorizer()\n",
    "F = vectorizer.fit_transform(note['text'])\n",
    "note['text'] = F.toarray().max(axis=1)"
   ]
  },
  {
   "cell_type": "code",
   "execution_count": 28,
   "id": "adca49f1-9e43-4a83-b9ef-92356d4b221e",
   "metadata": {},
   "outputs": [],
   "source": [
    "note = pd.merge(note,\n",
    "                post_stat,\n",
    "                on='post_id',\n",
    "                how='left')"
   ]
  },
  {
   "cell_type": "markdown",
   "id": "e121f4d6",
   "metadata": {},
   "source": [
    "Сохраняем таблицу note на сервер и сразу скачиваем её для проверки, что всё сохранилось как и задумывалось."
   ]
  },
  {
   "cell_type": "code",
   "execution_count": 29,
   "id": "1a50adb7-6f8a-4bf1-a390-62859548113f",
   "metadata": {},
   "outputs": [
    {
     "data": {
      "text/html": [
       "<div>\n",
       "<style scoped>\n",
       "    .dataframe tbody tr th:only-of-type {\n",
       "        vertical-align: middle;\n",
       "    }\n",
       "\n",
       "    .dataframe tbody tr th {\n",
       "        vertical-align: top;\n",
       "    }\n",
       "\n",
       "    .dataframe thead th {\n",
       "        text-align: right;\n",
       "    }\n",
       "</style>\n",
       "<table border=\"1\" class=\"dataframe\">\n",
       "  <thead>\n",
       "    <tr style=\"text-align: right;\">\n",
       "      <th></th>\n",
       "      <th>post_id</th>\n",
       "      <th>text</th>\n",
       "      <th>topic</th>\n",
       "      <th>post_stat</th>\n",
       "    </tr>\n",
       "  </thead>\n",
       "  <tbody>\n",
       "    <tr>\n",
       "      <th>0</th>\n",
       "      <td>1</td>\n",
       "      <td>0.439495</td>\n",
       "      <td>business</td>\n",
       "      <td>0.111436</td>\n",
       "    </tr>\n",
       "    <tr>\n",
       "      <th>1</th>\n",
       "      <td>2</td>\n",
       "      <td>0.290946</td>\n",
       "      <td>business</td>\n",
       "      <td>0.078333</td>\n",
       "    </tr>\n",
       "    <tr>\n",
       "      <th>2</th>\n",
       "      <td>3</td>\n",
       "      <td>0.279045</td>\n",
       "      <td>business</td>\n",
       "      <td>0.117684</td>\n",
       "    </tr>\n",
       "    <tr>\n",
       "      <th>3</th>\n",
       "      <td>4</td>\n",
       "      <td>0.525321</td>\n",
       "      <td>business</td>\n",
       "      <td>0.125523</td>\n",
       "    </tr>\n",
       "    <tr>\n",
       "      <th>4</th>\n",
       "      <td>5</td>\n",
       "      <td>0.409826</td>\n",
       "      <td>business</td>\n",
       "      <td>0.118426</td>\n",
       "    </tr>\n",
       "    <tr>\n",
       "      <th>...</th>\n",
       "      <td>...</td>\n",
       "      <td>...</td>\n",
       "      <td>...</td>\n",
       "      <td>...</td>\n",
       "    </tr>\n",
       "    <tr>\n",
       "      <th>7018</th>\n",
       "      <td>7315</td>\n",
       "      <td>0.226524</td>\n",
       "      <td>movie</td>\n",
       "      <td>0.133903</td>\n",
       "    </tr>\n",
       "    <tr>\n",
       "      <th>7019</th>\n",
       "      <td>7316</td>\n",
       "      <td>0.333130</td>\n",
       "      <td>movie</td>\n",
       "      <td>0.093392</td>\n",
       "    </tr>\n",
       "    <tr>\n",
       "      <th>7020</th>\n",
       "      <td>7317</td>\n",
       "      <td>0.507582</td>\n",
       "      <td>movie</td>\n",
       "      <td>0.097027</td>\n",
       "    </tr>\n",
       "    <tr>\n",
       "      <th>7021</th>\n",
       "      <td>7318</td>\n",
       "      <td>0.263741</td>\n",
       "      <td>movie</td>\n",
       "      <td>0.091092</td>\n",
       "    </tr>\n",
       "    <tr>\n",
       "      <th>7022</th>\n",
       "      <td>7319</td>\n",
       "      <td>0.229767</td>\n",
       "      <td>movie</td>\n",
       "      <td>0.098563</td>\n",
       "    </tr>\n",
       "  </tbody>\n",
       "</table>\n",
       "<p>7023 rows × 4 columns</p>\n",
       "</div>"
      ],
      "text/plain": [
       "      post_id      text     topic  post_stat\n",
       "0           1  0.439495  business   0.111436\n",
       "1           2  0.290946  business   0.078333\n",
       "2           3  0.279045  business   0.117684\n",
       "3           4  0.525321  business   0.125523\n",
       "4           5  0.409826  business   0.118426\n",
       "...       ...       ...       ...        ...\n",
       "7018     7315  0.226524     movie   0.133903\n",
       "7019     7316  0.333130     movie   0.093392\n",
       "7020     7317  0.507582     movie   0.097027\n",
       "7021     7318  0.263741     movie   0.091092\n",
       "7022     7319  0.229767     movie   0.098563\n",
       "\n",
       "[7023 rows x 4 columns]"
      ]
     },
     "execution_count": 29,
     "metadata": {},
     "output_type": "execute_result"
    }
   ],
   "source": [
    "note.to_sql(\n",
    "    \"note_control_shaverdin\",\n",
    "    con=\"postgresql://robot-startml-ro:pheiph0hahj1Vaif@\"\"postgres.lab.karpov.courses:6432/startml\",\n",
    "    schema=\"public\",\n",
    "    if_exists='replace',\n",
    "    index=False\n",
    ")\n",
    "\n",
    "note_shaverdin = pd.read_sql(\n",
    "    \"\"\"SELECT * FROM note_control_shaverdin\"\"\",\n",
    "    \"postgresql://robot-startml-ro:pheiph0hahj1Vaif@\"\"postgres.lab.karpov.courses:6432/startml\"\n",
    ")\n",
    "note_shaverdin"
   ]
  },
  {
   "cell_type": "code",
   "execution_count": 30,
   "id": "bd77bcdc-b391-4cea-9855-21d4e77f014a",
   "metadata": {},
   "outputs": [],
   "source": [
    "users = pd.merge(user_data,\n",
    "                 user_stat,\n",
    "                 on='user_id',\n",
    "                 how='left')"
   ]
  },
  {
   "cell_type": "markdown",
   "id": "56b6910f",
   "metadata": {},
   "source": [
    "Сохраняем таблицу users на сервер и сразу скачиваем её для проверки, что всё сохранилось как и задумывалось."
   ]
  },
  {
   "cell_type": "code",
   "execution_count": 31,
   "id": "cadd28e1-e344-490c-ada7-45f4f45cc5fb",
   "metadata": {},
   "outputs": [
    {
     "data": {
      "text/html": [
       "<div>\n",
       "<style scoped>\n",
       "    .dataframe tbody tr th:only-of-type {\n",
       "        vertical-align: middle;\n",
       "    }\n",
       "\n",
       "    .dataframe tbody tr th {\n",
       "        vertical-align: top;\n",
       "    }\n",
       "\n",
       "    .dataframe thead th {\n",
       "        text-align: right;\n",
       "    }\n",
       "</style>\n",
       "<table border=\"1\" class=\"dataframe\">\n",
       "  <thead>\n",
       "    <tr style=\"text-align: right;\">\n",
       "      <th></th>\n",
       "      <th>user_id</th>\n",
       "      <th>gender</th>\n",
       "      <th>age</th>\n",
       "      <th>country</th>\n",
       "      <th>city</th>\n",
       "      <th>exp_group</th>\n",
       "      <th>os</th>\n",
       "      <th>source</th>\n",
       "      <th>user_stat</th>\n",
       "    </tr>\n",
       "  </thead>\n",
       "  <tbody>\n",
       "    <tr>\n",
       "      <th>0</th>\n",
       "      <td>200</td>\n",
       "      <td>1</td>\n",
       "      <td>34</td>\n",
       "      <td>Russia</td>\n",
       "      <td>Degtyarsk</td>\n",
       "      <td>3</td>\n",
       "      <td>Android</td>\n",
       "      <td>ads</td>\n",
       "      <td>0.107232</td>\n",
       "    </tr>\n",
       "    <tr>\n",
       "      <th>1</th>\n",
       "      <td>201</td>\n",
       "      <td>0</td>\n",
       "      <td>37</td>\n",
       "      <td>Russia</td>\n",
       "      <td>Abakan</td>\n",
       "      <td>0</td>\n",
       "      <td>Android</td>\n",
       "      <td>ads</td>\n",
       "      <td>0.077540</td>\n",
       "    </tr>\n",
       "    <tr>\n",
       "      <th>2</th>\n",
       "      <td>202</td>\n",
       "      <td>1</td>\n",
       "      <td>17</td>\n",
       "      <td>Russia</td>\n",
       "      <td>Smolensk</td>\n",
       "      <td>4</td>\n",
       "      <td>Android</td>\n",
       "      <td>ads</td>\n",
       "      <td>0.120166</td>\n",
       "    </tr>\n",
       "    <tr>\n",
       "      <th>3</th>\n",
       "      <td>203</td>\n",
       "      <td>0</td>\n",
       "      <td>18</td>\n",
       "      <td>Russia</td>\n",
       "      <td>Moscow</td>\n",
       "      <td>1</td>\n",
       "      <td>iOS</td>\n",
       "      <td>ads</td>\n",
       "      <td>0.159686</td>\n",
       "    </tr>\n",
       "    <tr>\n",
       "      <th>4</th>\n",
       "      <td>204</td>\n",
       "      <td>0</td>\n",
       "      <td>36</td>\n",
       "      <td>Russia</td>\n",
       "      <td>Anzhero-Sudzhensk</td>\n",
       "      <td>3</td>\n",
       "      <td>Android</td>\n",
       "      <td>ads</td>\n",
       "      <td>0.142857</td>\n",
       "    </tr>\n",
       "    <tr>\n",
       "      <th>...</th>\n",
       "      <td>...</td>\n",
       "      <td>...</td>\n",
       "      <td>...</td>\n",
       "      <td>...</td>\n",
       "      <td>...</td>\n",
       "      <td>...</td>\n",
       "      <td>...</td>\n",
       "      <td>...</td>\n",
       "      <td>...</td>\n",
       "    </tr>\n",
       "    <tr>\n",
       "      <th>163200</th>\n",
       "      <td>168548</td>\n",
       "      <td>0</td>\n",
       "      <td>36</td>\n",
       "      <td>Russia</td>\n",
       "      <td>Kaliningrad</td>\n",
       "      <td>4</td>\n",
       "      <td>Android</td>\n",
       "      <td>organic</td>\n",
       "      <td>0.052356</td>\n",
       "    </tr>\n",
       "    <tr>\n",
       "      <th>163201</th>\n",
       "      <td>168549</td>\n",
       "      <td>0</td>\n",
       "      <td>18</td>\n",
       "      <td>Russia</td>\n",
       "      <td>Tula</td>\n",
       "      <td>2</td>\n",
       "      <td>Android</td>\n",
       "      <td>organic</td>\n",
       "      <td>0.080292</td>\n",
       "    </tr>\n",
       "    <tr>\n",
       "      <th>163202</th>\n",
       "      <td>168550</td>\n",
       "      <td>1</td>\n",
       "      <td>41</td>\n",
       "      <td>Russia</td>\n",
       "      <td>Yekaterinburg</td>\n",
       "      <td>4</td>\n",
       "      <td>Android</td>\n",
       "      <td>organic</td>\n",
       "      <td>0.093366</td>\n",
       "    </tr>\n",
       "    <tr>\n",
       "      <th>163203</th>\n",
       "      <td>168551</td>\n",
       "      <td>0</td>\n",
       "      <td>38</td>\n",
       "      <td>Russia</td>\n",
       "      <td>Moscow</td>\n",
       "      <td>3</td>\n",
       "      <td>iOS</td>\n",
       "      <td>organic</td>\n",
       "      <td>0.091429</td>\n",
       "    </tr>\n",
       "    <tr>\n",
       "      <th>163204</th>\n",
       "      <td>168552</td>\n",
       "      <td>1</td>\n",
       "      <td>16</td>\n",
       "      <td>Russia</td>\n",
       "      <td>Ivanteyevka</td>\n",
       "      <td>4</td>\n",
       "      <td>Android</td>\n",
       "      <td>organic</td>\n",
       "      <td>0.049430</td>\n",
       "    </tr>\n",
       "  </tbody>\n",
       "</table>\n",
       "<p>163205 rows × 9 columns</p>\n",
       "</div>"
      ],
      "text/plain": [
       "        user_id  gender  age country               city  exp_group       os  \\\n",
       "0           200       1   34  Russia          Degtyarsk          3  Android   \n",
       "1           201       0   37  Russia             Abakan          0  Android   \n",
       "2           202       1   17  Russia           Smolensk          4  Android   \n",
       "3           203       0   18  Russia             Moscow          1      iOS   \n",
       "4           204       0   36  Russia  Anzhero-Sudzhensk          3  Android   \n",
       "...         ...     ...  ...     ...                ...        ...      ...   \n",
       "163200   168548       0   36  Russia        Kaliningrad          4  Android   \n",
       "163201   168549       0   18  Russia               Tula          2  Android   \n",
       "163202   168550       1   41  Russia      Yekaterinburg          4  Android   \n",
       "163203   168551       0   38  Russia             Moscow          3      iOS   \n",
       "163204   168552       1   16  Russia        Ivanteyevka          4  Android   \n",
       "\n",
       "         source  user_stat  \n",
       "0           ads   0.107232  \n",
       "1           ads   0.077540  \n",
       "2           ads   0.120166  \n",
       "3           ads   0.159686  \n",
       "4           ads   0.142857  \n",
       "...         ...        ...  \n",
       "163200  organic   0.052356  \n",
       "163201  organic   0.080292  \n",
       "163202  organic   0.093366  \n",
       "163203  organic   0.091429  \n",
       "163204  organic   0.049430  \n",
       "\n",
       "[163205 rows x 9 columns]"
      ]
     },
     "execution_count": 31,
     "metadata": {},
     "output_type": "execute_result"
    }
   ],
   "source": [
    "users.to_sql(\n",
    "    \"users_shaverdin\",\n",
    "    con=\"postgresql://robot-startml-ro:pheiph0hahj1Vaif@\"\"postgres.lab.karpov.courses:6432/startml\",\n",
    "    schema=\"public\",\n",
    "    if_exists='replace',\n",
    "    index=False\n",
    ")\n",
    "\n",
    "users_shaverdin = pd.read_sql(\n",
    "    \"\"\"SELECT * FROM users_shaverdin\"\"\",\n",
    "    \"postgresql://robot-startml-ro:pheiph0hahj1Vaif@\"\"postgres.lab.karpov.courses:6432/startml\"\n",
    ")\n",
    "users_shaverdin"
   ]
  }
 ],
 "metadata": {
  "kernelspec": {
   "display_name": "Python 3.10.7 64-bit",
   "language": "python",
   "name": "python3"
  },
  "language_info": {
   "codemirror_mode": {
    "name": "ipython",
    "version": 3
   },
   "file_extension": ".py",
   "mimetype": "text/x-python",
   "name": "python",
   "nbconvert_exporter": "python",
   "pygments_lexer": "ipython3",
   "version": "3.10.7"
  },
  "vscode": {
   "interpreter": {
    "hash": "6f6e3b0ee54f96a09601f5bd9d9e22617a546e266b81c92c7eca224313b467ca"
   }
  }
 },
 "nbformat": 4,
 "nbformat_minor": 5
}
